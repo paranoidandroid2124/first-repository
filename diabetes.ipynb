{
 "cells": [
  {
   "cell_type": "code",
   "execution_count": 2,
   "id": "f0ec1c1c",
   "metadata": {},
   "outputs": [],
   "source": [
    "from sklearn.datasets import load_diabetes\n",
    "\n",
    "diabetes = load_diabetes()"
   ]
  },
  {
   "cell_type": "code",
   "execution_count": 3,
   "id": "d3cac40d",
   "metadata": {},
   "outputs": [],
   "source": [
    "# %%\n",
    "df_X = diabetes.data\n",
    "df_y = diabetes.target\n",
    "\n"
   ]
  },
  {
   "cell_type": "code",
   "execution_count": 4,
   "id": "c2ed6d20",
   "metadata": {},
   "outputs": [],
   "source": [
    "# %%\n",
    "import numpy as np\n",
    "df_X = np.array(df_X)\n",
    "df_y = np.array(df_y)\n",
    "\n"
   ]
  },
  {
   "cell_type": "code",
   "execution_count": 5,
   "id": "14081d6c",
   "metadata": {},
   "outputs": [],
   "source": [
    "# %%\n",
    "from sklearn.model_selection import train_test_split\n",
    "X_train, X_test, y_train, y_test = train_test_split(df_X,df_y,test_size=0.2, random_state=42)\n",
    "\n",
    "\n"
   ]
  },
  {
   "cell_type": "code",
   "execution_count": 6,
   "id": "a5562429",
   "metadata": {},
   "outputs": [],
   "source": [
    "# %%\n",
    "W = np.random.randn(X_train.shape[1])\n",
    "b = np.random.randn(1)\n",
    "\n",
    "def model(X,W,b):\n",
    "    y = X.dot(W)+b\n",
    "    return y\n",
    "\n"
   ]
  },
  {
   "cell_type": "code",
   "execution_count": 7,
   "id": "0c33a543",
   "metadata": {},
   "outputs": [],
   "source": [
    "# %%\n",
    "def mse(a,b):\n",
    "    mse = ((a-b)**2).mean()\n",
    "    return mse\n",
    "\n"
   ]
  },
  {
   "cell_type": "code",
   "execution_count": 8,
   "id": "35eb9e3a",
   "metadata": {},
   "outputs": [],
   "source": [
    "# %%\n",
    "def loss(X,W,b,y):\n",
    "    y_pred = model(X,W,b)\n",
    "    L = mse(y_pred,y)\n",
    "    return L\n",
    "\n"
   ]
  },
  {
   "cell_type": "code",
   "execution_count": 9,
   "id": "aac58573",
   "metadata": {},
   "outputs": [],
   "source": [
    "# %%\n",
    "## 뉴메릭 정의(안쓸거임)\n",
    "def gradient_numeric(X,W,b,y):\n",
    "    e = 1e-4\n",
    "    dW = (loss(X,W+e,b,y) - loss(X,W,b,y)) / e\n",
    "    db = (loss(X,W,b+e,y) - loss(X,W,b,y)) / e\n",
    "    return dW, db\n",
    "\n",
    "def gradient(X,W,b,y):\n",
    "    N = len(W)\n",
    "    y_pred = model(X,W,b)\n",
    "    dW = 1/N * 2 * X.T.dot(y_pred-y)\n",
    "    db = 2 * ((y_pred-y)).mean()\n",
    "    return dW, db\n",
    "\n",
    "    \n",
    "    \n"
   ]
  },
  {
   "cell_type": "code",
   "execution_count": 10,
   "id": "7c493b1e",
   "metadata": {},
   "outputs": [
    {
     "name": "stdout",
     "output_type": "stream",
     "text": [
      "0 th loss =  28495.60888500691\n",
      "100 th loss =  4666.173822820816\n",
      "200 th loss =  3672.533612244348\n",
      "300 th loss =  3387.654727977964\n",
      "400 th loss =  3232.8839406545026\n",
      "500 th loss =  3135.213640004235\n",
      "600 th loss =  3069.1678891964025\n",
      "700 th loss =  3022.964445396568\n",
      "800 th loss =  2990.060840836628\n",
      "900 th loss =  2966.3675646844854\n",
      "1000 th loss =  2949.1613055332746\n",
      "1100 th loss =  2936.5709343622125\n",
      "1200 th loss =  2927.2899503140984\n",
      "1300 th loss =  2920.397267113478\n",
      "1400 th loss =  2915.2389430039175\n",
      "1500 th loss =  2911.34789464373\n",
      "1600 th loss =  2908.3885983924265\n",
      "1700 th loss =  2906.1186732458846\n",
      "1800 th loss =  2904.362027070781\n",
      "1900 th loss =  2902.9899881302144\n",
      "mse metric =  2873.7901196090115\n"
     ]
    }
   ],
   "source": [
    "# %%\n",
    "lr = 1e-2\n",
    "epoch = 2000\n",
    "losses=[]\n",
    "for i in range(epoch):\n",
    "    dW, db = gradient(X_train,W,b,y_train)\n",
    "    W = W - lr * dW\n",
    "    b = b - lr * db\n",
    "    L = loss(X_train,W,b,y_train)\n",
    "    losses.append(L)\n",
    "\n",
    "    if i % 100 == 0:\n",
    "        print(i, \"th loss = \", L)\n",
    "        \n",
    "y_pred = b + X_test.dot(W)\n",
    "evaluation = mse(y_pred,y_test)\n",
    "print('mse metric = ', evaluation)\n",
    "\n"
   ]
  },
  {
   "cell_type": "markdown",
   "id": "43adfab8",
   "metadata": {},
   "source": [
    "randomly initialized, trained result\n",
    "0 th loss =  28495.60888500691\n",
    "100 th loss =  4666.173822820816\n",
    "200 th loss =  3672.533612244348\n",
    "300 th loss =  3387.654727977964\n",
    "400 th loss =  3232.8839406545026\n",
    "500 th loss =  3135.213640004235\n",
    "600 th loss =  3069.1678891964025\n",
    "700 th loss =  3022.964445396568\n",
    "800 th loss =  2990.060840836628\n",
    "900 th loss =  2966.3675646844854\n",
    "1000 th loss =  2949.1613055332746\n",
    "1100 th loss =  2936.5709343622125\n",
    "1200 th loss =  2927.2899503140984\n",
    "1300 th loss =  2920.397267113478\n",
    "1400 th loss =  2915.2389430039175\n",
    "1500 th loss =  2911.34789464373\n",
    "1600 th loss =  2908.3885983924265\n",
    "1700 th loss =  2906.1186732458846\n",
    "1800 th loss =  2904.362027070781\n",
    "1900 th loss =  2902.9899881302144\n",
    "mse metric =  2873.7901196090115"
   ]
  },
  {
   "cell_type": "code",
   "execution_count": 11,
   "id": "9e00cc00",
   "metadata": {},
   "outputs": [
    {
     "data": {
      "image/png": "[encoded data removed]",
      "text/plain": [
       "<Figure size 432x288 with 1 Axes>"
      ]
     },
     "metadata": {
      "needs_background": "light"
     },
     "output_type": "display_data"
    }
   ],
   "source": [
    "# %%\n",
    "import matplotlib.pyplot as plt\n",
    "\n",
    "plt.figure()\n",
    "plt.scatter(X_test[:,0],y_test)\n",
    "plt.scatter(X_test[:,0],y_pred)\n",
    "plt.show()\n"
   ]
  },
  {
   "attachments": {},
   "cell_type": "markdown",
   "id": "997635e5",
   "metadata": {},
   "source": []
  },
  {
   "cell_type": "code",
   "execution_count": null,
   "id": "62f2a907",
   "metadata": {},
   "outputs": [],
   "source": []
  },
  {
   "cell_type": "code",
   "execution_count": null,
   "id": "f213b62a",
   "metadata": {},
   "outputs": [],
   "source": []
  },
  {
   "cell_type": "code",
   "execution_count": null,
   "id": "ae027ce1",
   "metadata": {},
   "outputs": [],
   "source": []
  }
 ],
 "metadata": {
  "kernelspec": {
   "display_name": "Python 3 (ipykernel)",
   "language": "python",
   "name": "python3"
  },
  "language_info": {
   "codemirror_mode": {
    "name": "ipython",
    "version": 3
   },
   "file_extension": ".py",
   "mimetype": "text/x-python",
   "name": "python",
   "nbconvert_exporter": "python",
   "pygments_lexer": "ipython3",
   "version": "3.9.7"
  }
 },
 "nbformat": 4,
 "nbformat_minor": 5
}
